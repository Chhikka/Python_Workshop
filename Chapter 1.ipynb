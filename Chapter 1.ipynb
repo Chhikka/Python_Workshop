{
 "cells": [
  {
   "cell_type": "markdown",
   "metadata": {},
   "source": [
    "#Vital Python concepts\n",
    "- ##Python as a Calculator"
   ]
  },
  {
   "cell_type": "code",
   "execution_count": 31,
   "metadata": {},
   "outputs": [
    {
     "name": "stdout",
     "output_type": "stream",
     "text": [
      "<class 'float'>\n"
     ]
    },
    {
     "data": {
      "text/plain": [
       "(-0.5+0.5j)"
      ]
     },
     "execution_count": 31,
     "metadata": {},
     "output_type": "execute_result"
    }
   ],
   "source": [
    "print(type(6.0))\n",
    "\n",
    "(2+3j)/(1-5j)"
   ]
  },
  {
   "cell_type": "code",
   "execution_count": 18,
   "metadata": {},
   "outputs": [
    {
     "name": "stdout",
     "output_type": "stream",
     "text": [
      "15\n",
      "3.0\n",
      "9.0\n"
     ]
    }
   ],
   "source": [
    "#Assigning values to variable\n",
    "#Activity 1\n",
    "x = 14\n",
    "y = x+1\n",
    "print (y)\n",
    "print (y/5)\n",
    "z = y/5\n",
    "print (z*z)"
   ]
  },
  {
   "cell_type": "code",
   "execution_count": 19,
   "metadata": {},
   "outputs": [
    {
     "name": "stdout",
     "output_type": "stream",
     "text": [
      "['False', 'None', 'True', 'and', 'as', 'assert', 'async', 'await', 'break', 'class', 'continue', 'def', 'del', 'elif', 'else', 'except', 'finally', 'for', 'from', 'global', 'if', 'import', 'in', 'is', 'lambda', 'nonlocal', 'not', 'or', 'pass', 'raise', 'return', 'try', 'while', 'with', 'yield']\n"
     ]
    }
   ],
   "source": [
    "#list of Python keywords\n",
    "import keyword\n",
    "print(keyword.kwlist)"
   ]
  },
  {
   "cell_type": "code",
   "execution_count": 20,
   "metadata": {},
   "outputs": [
    {
     "data": {
      "text/plain": [
       "6"
      ]
     },
     "execution_count": 20,
     "metadata": {},
     "output_type": "execute_result"
    }
   ],
   "source": [
    "# Arithmetic operations in python follow PEMDAS (Parenthesis, exponent, multiply, divide, add, subtract)\n",
    "a=5\n",
    "b=2\n",
    "a + a - b ** 2"
   ]
  },
  {
   "cell_type": "code",
   "execution_count": 32,
   "metadata": {},
   "outputs": [
    {
     "name": "stdout",
     "output_type": "stream",
     "text": [
      "5.385164807134504\n"
     ]
    }
   ],
   "source": [
    "#Activity 2: Solution using the Pythagorean theorem in Python\n",
    "x = 2\n",
    "y = 3\n",
    "z = 4\n",
    "psquared = x**2 + y**2 + z**2\n",
    "pd = psquared ** 0.5\n",
    "print(pd)\n"
   ]
  },
  {
   "cell_type": "code",
   "execution_count": 48,
   "metadata": {},
   "outputs": [
    {
     "name": "stdout",
     "output_type": "stream",
     "text": [
      "Hola weyrey\n",
      "HelloHelloHelloHelloHelloHelloHelloHelloHelloHello\n",
      "we should be allowed to greet Ekaaro in our native language\n"
     ]
    }
   ],
   "source": [
    "#String concatenation\n",
    "\n",
    "spanish_greetings = 'Hola'\n",
    "print(spanish_greetings +  ' weyrey')\n",
    "greeting = 'Hello'\n",
    "print(greeting * 10)\n",
    "Nigerian_greeting = 'Ekaaro'\n",
    "print('we should be allowed to greet', Nigerian_greeting, 'in our native language')"
   ]
  },
  {
   "cell_type": "code",
   "execution_count": 55,
   "metadata": {},
   "outputs": [
    {
     "name": "stdout",
     "output_type": "stream",
     "text": [
      "We acknowledge the contribution of, Chikasirimobi Okoroafor, a serial, entrepreneur , in the field of science.\n"
     ]
    }
   ],
   "source": [
    "#Using formats. Format enables you to concatenate parts of a string at desired intervals through point data format using curly brackets.\n",
    "# Define your variables, then use {} in place of each variable in the given string\n",
    " \n",
    "id = 'Chikasirimobi Okoroafor'\n",
    "job  = 'entrepreneur'\n",
    "print('We acknowledge the contribution of, {}, a serial, {} , in the field of science.'.format(id,job))\n"
   ]
  },
  {
   "cell_type": "code",
   "execution_count": 63,
   "metadata": {},
   "outputs": [
    {
     "data": {
      "text/plain": [
       "10"
      ]
     },
     "execution_count": 63,
     "metadata": {},
     "output_type": "execute_result"
    }
   ],
   "source": [
    "item = 'collection'\n",
    "len (item)"
   ]
  },
  {
   "cell_type": "code",
   "execution_count": 72,
   "metadata": {},
   "outputs": [
    {
     "data": {
      "text/plain": [
       "4"
      ]
     },
     "execution_count": 72,
     "metadata": {},
     "output_type": "execute_result"
    }
   ],
   "source": [
    "#string methods\n",
    "name = 'Chikasirimobi'\n",
    "name.capitalize()\n",
    "name.upper()\n",
    "name.count('i')"
   ]
  },
  {
   "cell_type": "code",
   "execution_count": 79,
   "metadata": {},
   "outputs": [
    {
     "ename": "SyntaxError",
     "evalue": "invalid syntax (4276215661.py, line 5)",
     "output_type": "error",
     "traceback": [
      "\u001b[0;36m  Input \u001b[0;32mIn [79]\u001b[0;36m\u001b[0m\n\u001b[0;31m    print ('you feel like a ' + rating '+ Thanks')\u001b[0m\n\u001b[0m                                       ^\u001b[0m\n\u001b[0;31mSyntaxError\u001b[0m\u001b[0;31m:\u001b[0m invalid syntax\n"
     ]
    }
   ],
   "source": [
    "# Using the input song (Activity 3)\n",
    "# input function allows users input \n",
    "print (' how would you rate your day on a scale of 1 to 10')\n",
    "rating = input()\n",
    "print ('you feel like a ' + rating '+ Thanks')"
   ]
  },
  {
   "cell_type": "code",
   "execution_count": 96,
   "metadata": {},
   "outputs": [
    {
     "name": "stdout",
     "output_type": "stream",
     "text": [
      "welcome to our voting program\n"
     ]
    }
   ],
   "source": [
    "#Strings and conditionals \n",
    "age = 46\n",
    "if age < 18:\n",
    "    print ('You aren\\'t old enough to vote') \n",
    "else: \n",
    "    print ('welcome to our voting program')\n",
    "\n"
   ]
  },
  {
   "cell_type": "code",
   "execution_count": 102,
   "metadata": {},
   "outputs": [
    {
     "name": "stdout",
     "output_type": "stream",
     "text": [
      "please retire that package \n"
     ]
    }
   ],
   "source": [
    "#Kevin Samuels women age dilenma, pov - this is a faux relationship advice page \n",
    "age = 50\n",
    "if age <= 19:\n",
    "    print('finish high school and get into college')\n",
    "elif age <= 25: \n",
    "    print('Go get yourself a young professional or high value man')\n",
    "elif age >= 45:\n",
    "    print('please retire that package ')"
   ]
  },
  {
   "cell_type": "code",
   "execution_count": 111,
   "metadata": {},
   "outputs": [
    {
     "name": "stdout",
     "output_type": "stream",
     "text": [
      "1\n",
      "6\n",
      "11\n",
      "16\n"
     ]
    }
   ],
   "source": [
    "# Using loops: Python distinguishes between two fundamental kinds of loops\n",
    "# While loop and for loop\n",
    "a = 1\n",
    "while a < 20:\n",
    "    print(a)\n",
    "    a += 5\n"
   ]
  }
 ],
 "metadata": {
  "interpreter": {
   "hash": "40d3a090f54c6569ab1632332b64b2c03c39dcf918b08424e98f38b5ae0af88f"
  },
  "kernelspec": {
   "display_name": "Python 3.8.8 ('base')",
   "language": "python",
   "name": "python3"
  },
  "language_info": {
   "codemirror_mode": {
    "name": "ipython",
    "version": 3
   },
   "file_extension": ".py",
   "mimetype": "text/x-python",
   "name": "python",
   "nbconvert_exporter": "python",
   "pygments_lexer": "ipython3",
   "version": "3.8.13"
  },
  "orig_nbformat": 4
 },
 "nbformat": 4,
 "nbformat_minor": 2
}
